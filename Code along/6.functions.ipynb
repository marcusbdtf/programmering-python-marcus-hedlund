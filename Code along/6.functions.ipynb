{
 "cells": [
  {
   "cell_type": "code",
   "execution_count": 1,
   "source": [
    "def largest(num1, num2): ## def is keyword to create function\n",
    "    if num1 > num2:      ## largest is the name of the function\n",
    "        return num1\n",
    "    else:\n",
    "        return num2\n",
    "print(largest(3,6))"
   ],
   "outputs": [
    {
     "output_type": "stream",
     "name": "stdout",
     "text": [
      "6\n"
     ]
    }
   ],
   "metadata": {}
  },
  {
   "cell_type": "code",
   "execution_count": 9,
   "source": [
    "def cube(number):\n",
    "    return number**3\n",
    "\n",
    "print(f\"cube(3): {cube(3)}\")\n",
    "\n",
    "cube5 = cube(5) ## gets the return value from function above\n",
    "print(cube5)\n",
    "\n",
    "cubes = [cube(x) for x in range(10)] ## list comprehension with own function\n",
    "print(cubes)"
   ],
   "outputs": [
    {
     "output_type": "stream",
     "name": "stdout",
     "text": [
      "cube(3): 27\n",
      "125\n",
      "[0, 1, 8, 27, 64, 125, 216, 343, 512, 729]\n"
     ]
    }
   ],
   "metadata": {}
  },
  {
   "cell_type": "code",
   "execution_count": 10,
   "source": [
    "def mean1(num1, num2, num3):\n",
    "    mean = (num1 + num2 + num3)/3\n",
    "    return mean\n",
    "\n",
    "print(f\"mean1(1,3,5): {mean1(1,3,5)}\")\n",
    "# print(mean) - mean is not defined outside the scope of the function"
   ],
   "outputs": [
    {
     "output_type": "stream",
     "name": "stdout",
     "text": [
      "mean1(1,3,5): 3.0\n"
     ]
    }
   ],
   "metadata": {}
  },
  {
   "cell_type": "markdown",
   "source": [
    "Default Values"
   ],
   "metadata": {}
  },
  {
   "cell_type": "code",
   "execution_count": 22,
   "source": [
    "# function without a return value\n",
    "def say_hi(name = \"friend\", age = 0):\n",
    "    print(f\"Hello {name}, you are {age} years old\")\n",
    "say_hi(\"Zyzz\", 1337) # default values are overwritten by input arguments\n",
    "say_hi() # default values are used\n",
    "say_hi(age=30)"
   ],
   "outputs": [
    {
     "output_type": "stream",
     "name": "stdout",
     "text": [
      "Hello Zyzz, you are 1337 years old\n",
      "Hello friend, you are 0 years old\n",
      "Hello friend, you are 30 years old\n"
     ]
    }
   ],
   "metadata": {}
  }
 ],
 "metadata": {
  "orig_nbformat": 4,
  "language_info": {
   "name": "python",
   "version": "3.9.1",
   "mimetype": "text/x-python",
   "codemirror_mode": {
    "name": "ipython",
    "version": 3
   },
   "pygments_lexer": "ipython3",
   "nbconvert_exporter": "python",
   "file_extension": ".py"
  },
  "kernelspec": {
   "name": "python3",
   "display_name": "Python 3.9.1 64-bit ('programmering-python-marcus-hedlund-5oyWV5A8': venv)"
  },
  "interpreter": {
   "hash": "fe1f556b4ca3e78725b3070da2b7773a6fedb4125a5c65f3b6626a281545a789"
  }
 },
 "nbformat": 4,
 "nbformat_minor": 2
}