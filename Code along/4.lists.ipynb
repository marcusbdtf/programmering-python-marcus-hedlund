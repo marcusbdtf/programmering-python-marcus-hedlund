{
 "cells": [
  {
   "cell_type": "code",
   "execution_count": 3,
   "source": [
    "a = ['a' , \"hej\" , 5 , 5.3 , True]\n",
    "##    0      1     2    3      4\n",
    "##    -5    -4    -3    -2     -1 \n",
    "len(a) ## calculates length of list. List is reviersible with (-1) \n",
    "\n"
   ],
   "outputs": [
    {
     "output_type": "execute_result",
     "data": {
      "text/plain": [
       "5"
      ]
     },
     "metadata": {},
     "execution_count": 3
    }
   ],
   "metadata": {}
  },
  {
   "cell_type": "code",
   "execution_count": 8,
   "source": [
    "tv_shows = [\"Antikrundan\", \"Mästerkockarna\", \"Aktuellt\", \"Talang\"]\n",
    "# access items  - [] operator\n",
    "print(f\"tv_shows[0]: {tv_shows[0]}\")\n",
    "print(f\"tv_shows[-1]: {tv_shows[-1]}\")\n",
    "\n",
    "# slicing operator - : operator\n",
    "print(f\"tv_shows[:]: {tv_shows[:]}\")\n",
    "print(f\"tv_shows[1:]: {tv_shows[1:]}\") # starts at index #1 and \"goes\" to the end\n",
    "print(f\"tv_shows[1:3]: {tv_shows[1:3]}\") # 1:3 are excluded \n",
    "print(f\"tv_shows[::-1]: {tv_shows[::-1]}\") # Reversed list"
   ],
   "outputs": [
    {
     "output_type": "stream",
     "name": "stdout",
     "text": [
      "tv_shows[0]: Antikrundan\n",
      "tv_shows[-1]: Talang\n",
      "tv_shows[:]: ['Antikrundan', 'Mästerkockarna', 'Aktuellt', 'Talang']\n",
      "tv_shows[1:]: ['Mästerkockarna', 'Aktuellt', 'Talang']\n",
      "tv_shows[1:3]: ['Mästerkockarna', 'Aktuellt']\n",
      "tv_shows[::-1]: ['Talang', 'Aktuellt', 'Mästerkockarna', 'Antikrundan']\n"
     ]
    }
   ],
   "metadata": {}
  },
  {
   "cell_type": "code",
   "execution_count": 11,
   "source": [
    "# change list items\n",
    "tv_shows = [\"Antikrundan\", \"Mästerkockarna\", \"Aktuellt\", \"Talang\"]\n",
    "tv_shows[0] = \"Vetenskapens värld\"\n",
    "print(tv_shows)\n",
    "\n",
    "# add item to list\n",
    "tv_shows.append(\"Go kväll\") # always adds object to end of list\n",
    "print(tv_shows)"
   ],
   "outputs": [
    {
     "output_type": "stream",
     "name": "stdout",
     "text": [
      "['Vetenskapens värld', 'Mästerkockarna', 'Aktuellt', 'Talang']\n",
      "['Vetenskapens värld', 'Mästerkockarna', 'Aktuellt', 'Talang', 'Go kväll']\n"
     ]
    }
   ],
   "metadata": {}
  },
  {
   "cell_type": "code",
   "execution_count": 23,
   "source": [
    "# Iterate through list\n",
    "tv_shows = [\"Antikrundan\", \"Mästerkockarna\", \"Aktuellt\", \"Talang\"]\n",
    "print(\"Tv tablå\")\n",
    "for i, tv_show in enumerate(tv_shows):\n",
    "    print(f\"{i}: {tv_show}\")"
   ],
   "outputs": [
    {
     "output_type": "stream",
     "name": "stdout",
     "text": [
      "Tv tablå\n",
      "0: Antikrundan\n",
      "1: Mästerkockarna\n",
      "2: Aktuellt\n",
      "3: Talang\n"
     ]
    }
   ],
   "metadata": {}
  },
  {
   "cell_type": "code",
   "execution_count": 24,
   "source": [
    "# lit of cubes\n",
    "cubes = []\n",
    "\n",
    "for i in range(10):\n",
    "    cubes.append(i**3)\n",
    "print(cubes)"
   ],
   "outputs": [
    {
     "output_type": "stream",
     "name": "stdout",
     "text": [
      "[0, 1, 8, 27, 64, 125, 216, 343, 512, 729]\n"
     ]
    }
   ],
   "metadata": {}
  },
  {
   "cell_type": "code",
   "execution_count": 28,
   "source": [
    "# list comprehensions\n",
    "\n",
    "cubes2 = [x**2 for x in range(10)]\n",
    "print(cubes2)"
   ],
   "outputs": [
    {
     "output_type": "stream",
     "name": "stdout",
     "text": [
      "[0, 1, 4, 9, 16, 25, 36, 49, 64, 81]\n"
     ]
    }
   ],
   "metadata": {}
  },
  {
   "cell_type": "code",
   "execution_count": 34,
   "source": [
    "# cube every even number - list comprehension with if-statement inside\n",
    "cubes_even = [x**3 for x in range(10) if x%2==0]\n",
    "print(cubes_even)"
   ],
   "outputs": [
    {
     "output_type": "stream",
     "name": "stdout",
     "text": [
      "[0, 8, 64, 216, 512]\n"
     ]
    }
   ],
   "metadata": {}
  },
  {
   "cell_type": "code",
   "execution_count": 31,
   "source": [
    "import random as rnd \n",
    "dices = [rnd.randint(1,6) for _ in range(10)]\n",
    "print(dices)\n",
    "dices.sort() # returns None\n",
    "print(dices)"
   ],
   "outputs": [
    {
     "output_type": "stream",
     "name": "stdout",
     "text": [
      "[5, 1, 2, 5, 3, 1, 6, 2, 6, 4]\n",
      "[1, 1, 2, 2, 3, 4, 5, 5, 6, 6]\n"
     ]
    }
   ],
   "metadata": {}
  }
 ],
 "metadata": {
  "orig_nbformat": 4,
  "language_info": {
   "name": "python",
   "version": "3.9.1",
   "mimetype": "text/x-python",
   "codemirror_mode": {
    "name": "ipython",
    "version": 3
   },
   "pygments_lexer": "ipython3",
   "nbconvert_exporter": "python",
   "file_extension": ".py"
  },
  "kernelspec": {
   "name": "python3",
   "display_name": "Python 3.9.1 64-bit ('programmering-python-marcus-hedlund-5oyWV5A8': venv)"
  },
  "interpreter": {
   "hash": "fe1f556b4ca3e78725b3070da2b7773a6fedb4125a5c65f3b6626a281545a789"
  }
 },
 "nbformat": 4,
 "nbformat_minor": 2
}