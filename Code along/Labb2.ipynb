{
 "cells": [
  {
   "cell_type": "markdown",
   "source": [
    "ex på avstånd från (x1,y1) till (w2,h2) (ska vara w(i),h(i))\r\n",
    "\r\n",
    "d = sqrt(((x1-w2)^2) + ((y1-h2)^2))\r\n",
    "\r\n",
    "(legend on plot)"
   ],
   "metadata": {}
  },
  {
   "cell_type": "code",
   "execution_count": 30,
   "source": [
    "import matplotlib.pyplot as plt\r\n",
    "path = \"files/test_points.txt\"\r\n",
    "with open(path, \"r\") as f1:\r\n",
    "    text = f1.read()\r\n",
    "    for num in f1.readlines():\r\n",
    "        num = num.strip()\r\n",
    "print(text)\r\n",
    "\r\n",
    "\r\n",
    "\r\n"
   ],
   "outputs": [
    {
     "output_type": "stream",
     "name": "stdout",
     "text": [
      "(25, 35), (15,14), (26,30), (22,45)\n"
     ]
    }
   ],
   "metadata": {}
  },
  {
   "cell_type": "markdown",
   "source": [
    "ex på avstånd från (x1,y1) till (w2,h2) (ska vara w(i),h(i))\r\n",
    "\r\n",
    "d = sqrt(((x1-w2)^2) + ((y1-h2)^2))\r\n"
   ],
   "metadata": {}
  },
  {
   "cell_type": "code",
   "execution_count": 35,
   "source": [
    "import matplotlib.pyplot as plt\r\n",
    "import numpy as np\r\n",
    "import math\r\n",
    "\r\n",
    "\r\n",
    "pichudata = []\r\n",
    "pikachudata = []\r\n",
    "test_points = []\r\n",
    "path = 'files/pichu.txt'\r\n",
    "path2 = 'files/pikachu.txt'\r\n",
    "path3 = 'files/test_points.txt'\r\n",
    "distance_list = list()\r\n",
    "distance_list2 = list()\r\n",
    "result2 = []\r\n",
    "def calculateDistance(xi,yi,x2,y2):\r\n",
    "    dist = math.sqrt((x2-xi)**2 + (y2-yi)**2)\r\n",
    "    distance_list.append(dist)\r\n",
    "    return dist\r\n",
    "def calculateDistancepichu(xi,yi,x2,y2):\r\n",
    "    dist1 = math.sqrt((x2-xi)**2 + (y2-yi)**2)\r\n",
    "    distance_list2.append(dist1)\r\n",
    "    return dist1\r\n",
    "\r\n",
    "#def distance(x2,y2):\r\n",
    "   # for i in pikachudata, pichudata: \r\n",
    "     #   d = np.sqrt(((x2 - h(i))**2) + ((y2 - w(i))**2))\r\n",
    "    #    return[d]    \r\n",
    "\r\n",
    "with open(path, 'r') as f1, open(path2, 'r') as f2, open(path3, 'r') as f3:\r\n",
    "    next(f1)\r\n",
    "    for line in f1:\r\n",
    "       pichudata.append([eval(n) for n in line[1:-2].split(',')])\r\n",
    "    next(f2) \r\n",
    "    for line in f2:\r\n",
    "        pikachudata.append([eval(n) for n in line[1:-2].split(',')])\r\n",
    "#test = f3.readable\r\n",
    "#test1 = [test.strip('()').split('),')]\r\n",
    "#print(repr(test1))\r\n",
    "        \r\n",
    "for pair in pikachudata:\r\n",
    "    x2,y2 = pair[0],pair[1]\r\n",
    "    calculateDistance(x2,y2,22,45)    \r\n",
    "    plt.scatter(x2,y2, color=\"b\")\r\n",
    "for pair in pichudata:\r\n",
    "        x,y = pair[0],pair[1]\r\n",
    "        calculateDistancepichu(x,y, 22,45)\r\n",
    "        plt.scatter(x,y, color=\"r\")\r\n",
    "        plt.xlabel('Width')\r\n",
    "        plt.ylabel('Height')\r\n",
    "        plt.title('Pikachu & Pichu Scatter')\r\n",
    "        plt.scatter(26,30, color=\"g\")\r\n",
    "        plt.show\r\n",
    "\r\n",
    "distance_list2.sort()\r\n",
    "distance_list.sort()\r\n",
    "print(distance_list2[:5]), distance_list[:5]\r\n",
    "if distance_list2[:5] <= distance_list[:5]:\r\n",
    "    print(f\"Pichu classified, nearest Pikachu points:{distance_list[:5]} , nearest Pichu points:{distance_list2[:5]}\")\r\n",
    "else:\r\n",
    "    print(f\"Pikachu classified, nearest Pikachu points:{distance_list[:5]} , nearest Pichu points:{distance_list2[:5]}\")\r\n",
    "\r\n",
    "\r\n",
    "\r\n",
    "        \r\n"
   ],
   "outputs": [
    {
     "output_type": "stream",
     "name": "stdout",
     "text": [
      "[10.031257989715728, 10.465819335117194, 10.665171649600767, 11.049685452178096, 11.387634381667857]\n",
      "Pikachu classified, nearest Pikachu points:[1.586203468458903, 1.660116255678705, 2.012312214318831, 2.0832503592042473, 2.7269001577480316] , nearest Pichu points:[10.031257989715728, 10.465819335117194, 10.665171649600767, 11.049685452178096, 11.387634381667857]\n"
     ]
    },
    {
     "output_type": "display_data",
     "data": {
      "image/png": "[encoded data removed]",
      "text/plain": [
       "<Figure size 432x288 with 1 Axes>"
      ]
     },
     "metadata": {
      "needs_background": "light"
     }
    }
   ],
   "metadata": {}
  }
 ],
 "metadata": {
  "orig_nbformat": 4,
  "language_info": {
   "name": "python",
   "version": "3.9.7",
   "mimetype": "text/x-python",
   "codemirror_mode": {
    "name": "ipython",
    "version": 3
   },
   "pygments_lexer": "ipython3",
   "nbconvert_exporter": "python",
   "file_extension": ".py"
  },
  "kernelspec": {
   "name": "python3",
   "display_name": "Python 3.9.7 64-bit ('programmering-python-marcus-hedlund-oiQEj9Gv': pipenv)"
  },
  "interpreter": {
   "hash": "79ed5b5c011ac0b6edc9d22a03e0060c898a71889c687486e27e2c9555cbebb5"
  }
 },
 "nbformat": 4,
 "nbformat_minor": 2
}