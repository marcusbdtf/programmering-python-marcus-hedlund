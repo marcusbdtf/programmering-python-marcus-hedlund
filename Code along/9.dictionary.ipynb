{
 "cells": [
  {
   "cell_type": "markdown",
   "source": [
    "Dictionary\r\n",
    "\r\n",
    "- key:value pair\r\n"
   ],
   "metadata": {}
  },
  {
   "cell_type": "code",
   "execution_count": 25,
   "source": [
    "person = dict(\r\n",
    "    name = \"Marcus\",\r\n",
    "    age = 22.5,\r\n",
    "    work = \"AI Student\",\r\n",
    "    interests = [\"tech\", \"music\", \"business\"],\r\n",
    "    likes_job = True\r\n",
    ")\r\n",
    "\r\n",
    "print(f\"person dictionary {person}\")\r\n",
    "print(f\"The persons name is {person['name']}\") # accessed the value of the key name in person\r\n",
    "print(f\"The persons age is {person['age']}\")\r\n",
    "\r\n",
    "for interest in person['interests']:\r\n",
    "    print(f\"{person['name']} likes {interest}\")"
   ],
   "outputs": [
    {
     "output_type": "stream",
     "name": "stdout",
     "text": [
      "person dictionary {'name': 'Marcus', 'age': 22.5, 'work': 'AI Student', 'interests': ['tech', 'music', 'business'], 'likes_job': True}\n",
      "The persons name is Marcus\n",
      "The persons age is 22.5\n",
      "Marcus likes tech\n",
      "Marcus likes music\n",
      "Marcus likes business\n"
     ]
    }
   ],
   "metadata": {}
  },
  {
   "cell_type": "code",
   "execution_count": 23,
   "source": [
    "words = {\r\n",
    "    \"data structure\": \"means of storing and organizing data\",\r\n",
    "    \"lambda\": \"anonymous function\",\r\n",
    "    \"class\": \"blueprint for objects\",\r\n",
    "}\r\n",
    "\r\n",
    "print(\"Vi ska lära oss dessa ord: \")\r\n",
    "for key in words:\r\n",
    "    print(key, end=\", \")\r\n",
    "print(f\"\\nGlosa {'':<15} Betydelse\")\r\n",
    "for key, value in words.items(): \r\n",
    "    print(f\"{key:<21} {value}\")"
   ],
   "outputs": [
    {
     "output_type": "stream",
     "name": "stdout",
     "text": [
      "Vi ska lära oss dessa ord: \n",
      "data structure, lambda, class, \n",
      "Glosa                 Betydelse\n",
      "data structure        means of storing and organizing data\n",
      "lambda                anonymous function\n",
      "class                 blueprint for objects\n"
     ]
    }
   ],
   "metadata": {}
  },
  {
   "cell_type": "code",
   "execution_count": 22,
   "source": [
    "# F<10, E:10, D:20, C:30, B:40, A:50\r\n",
    "grade_limits = {} \r\n",
    "grades = list(\"ABCDEF\")\r\n",
    "\r\n",
    "print(grades) 889890"
   ],
   "outputs": [
    {
     "output_type": "stream",
     "name": "stdout",
     "text": [
      "['A', 'B', 'C', 'D', 'E', 'F']\n"
     ]
    }
   ],
   "metadata": {}
  }
 ],
 "metadata": {
  "orig_nbformat": 4,
  "language_info": {
   "name": "python",
   "version": "3.9.7",
   "mimetype": "text/x-python",
   "codemirror_mode": {
    "name": "ipython",
    "version": 3
   },
   "pygments_lexer": "ipython3",
   "nbconvert_exporter": "python",
   "file_extension": ".py"
  },
  "kernelspec": {
   "name": "python3",
   "display_name": "Python 3.9.7 64-bit ('programmering-python-marcus-hedlund-oiQEj9Gv': pipenv)"
  },
  "interpreter": {
   "hash": "79ed5b5c011ac0b6edc9d22a03e0060c898a71889c687486e27e2c9555cbebb5"
  }
 },
 "nbformat": 4,
 "nbformat_minor": 2
}