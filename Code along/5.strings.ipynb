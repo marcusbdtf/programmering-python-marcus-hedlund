{
 "cells": [
  {
   "cell_type": "markdown",
   "source": [
    "Concatenating String"
   ],
   "metadata": {}
  },
  {
   "cell_type": "code",
   "execution_count": 5,
   "source": [
    "firstname = \"Kokchun\"\n",
    "lastname = \"Giang\"\n",
    "\n",
    "# concatenating strings\n",
    "fullname = firstname + \" \" + lastname\n",
    "\n",
    "school = \"IT-Högskolan\"\n",
    "adress = \"Ebbe lierbathsgatan 18C\"\n",
    "phone = \"112\"\n",
    "\n",
    "print(fullname)\n",
    "\n",
    "# multiline f-string\n",
    "contact_details = f\"\"\"\n",
    "Name: {fullname}\n",
    "School: {school}\n",
    "Adress: {adress}\n",
    "Phone: {phone}\n",
    "\"\"\"\n",
    "print(contact_details)"
   ],
   "outputs": [
    {
     "output_type": "stream",
     "name": "stdout",
     "text": [
      "Kokchun Giang\n",
      "\n",
      "Name: Kokchun Giang\n",
      "School: IT-Högskolan\n",
      "Adress: Ebbe lierbathsgatan 18C\n",
      "Phone: 112\n",
      "\n"
     ]
    }
   ],
   "metadata": {}
  },
  {
   "cell_type": "markdown",
   "source": [
    "Concatenate with loop"
   ],
   "metadata": {}
  },
  {
   "cell_type": "code",
   "execution_count": 15,
   "source": [
    "bamba = \"Chili con Carne, Köttbullar, Fisk, Pannkakor, Tacos\".split(\", \")\n",
    "## split is helpful while importing text files \n",
    "days = \"Må Ti On To Fr\".split( ) \n",
    "days \n",
    "\n",
    "menu = \"Veckomeny \\n\"\n",
    "\n",
    "for day, food in zip(days, bamba):\n",
    "    menu += f\"{day}: {food}\\n\"\n",
    "print(menu)"
   ],
   "outputs": [
    {
     "output_type": "stream",
     "name": "stdout",
     "text": [
      "Veckomeny \n",
      "Må: Chili con Carne\n",
      "Ti: Köttbullar\n",
      "On: Fisk\n",
      "To: Pannkakor\n",
      "Fr: Tacos\n",
      "\n"
     ]
    }
   ],
   "metadata": {}
  },
  {
   "cell_type": "markdown",
   "source": [
    "Indexing\n",
    "- indexing with {} operator to access elements\n",
    "- slicing operator : "
   ],
   "metadata": {}
  },
  {
   "cell_type": "code",
   "execution_count": null,
   "source": [
    "quote = \"!False - it's funny because it's True\"\n",
    "#quote = '!False it's funny because it's True' # Doesn't work because of ''"
   ],
   "outputs": [],
   "metadata": {}
  }
 ],
 "metadata": {
  "orig_nbformat": 4,
  "language_info": {
   "name": "python",
   "version": "3.9.1",
   "mimetype": "text/x-python",
   "codemirror_mode": {
    "name": "ipython",
    "version": 3
   },
   "pygments_lexer": "ipython3",
   "nbconvert_exporter": "python",
   "file_extension": ".py"
  },
  "kernelspec": {
   "name": "python3",
   "display_name": "Python 3.9.1 64-bit ('programmering-python-marcus-hedlund-5oyWV5A8': venv)"
  },
  "interpreter": {
   "hash": "fe1f556b4ca3e78725b3070da2b7773a6fedb4125a5c65f3b6626a281545a789"
  }
 },
 "nbformat": 4,
 "nbformat_minor": 2
}