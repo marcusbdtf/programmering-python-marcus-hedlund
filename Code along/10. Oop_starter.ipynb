{
 "cells": [
  {
   "cell_type": "markdown",
   "source": [
    "Class \r\n",
    "- (blueprint) \r\n",
    "- [\r\n",
    "Angatning:\r\n",
    "Skola:\r\n",
    "Prog:\r\n",
    "Namn:\r\n",
    "Tacka ja?\r\n",
    "]"
   ],
   "metadata": {}
  },
  {
   "cell_type": "markdown",
   "source": [
    "Objects \r\n",
    "(instances of the class \"Antagning\")\r\n",
    "- [\r\n",
    "Angatning\r\n",
    "Skola: cool school\r\n",
    "Prog: A.i\r\n",
    "Namn: Gore Bord\r\n",
    "Tacka ja? Nej\r\n",
    "]\r\n",
    "- Try representing real obects or phenomena"
   ],
   "metadata": {}
  },
  {
   "cell_type": "code",
   "execution_count": 1,
   "source": [
    "class Antagning: # creates a class\r\n",
    "    def __init__(self): # self refers to object, can be called with self\r\n",
    "        pass\r\n",
    "\r\n",
    "\r\n",
    "a1 = Antagning() # instantiated an object from the class Antagning\r\n",
    "print(a1)"
   ],
   "outputs": [
    {
     "output_type": "stream",
     "name": "stdout",
     "text": [
      "<__main__.Antagning object at 0x0000014562014C10>\n"
     ]
    }
   ],
   "metadata": {}
  },
  {
   "cell_type": "code",
   "execution_count": 6,
   "source": [
    "class Antagning:\r\n",
    "    def __init__(self, school, program, name, accept):\r\n",
    "        # assigns arguments to objects attributes (egenskaper/variabler)\r\n",
    "        # for functions or methods - positional parameter first, then default parameter\r\n",
    "        self.school = school\r\n",
    "        self.program = program\r\n",
    "        self.name = name\r\n",
    "        self.accept = accept\r\n",
    "           \r\n",
    "    def __repr__(self): # dunder __repr__ to show noncryptic print()\r\n",
    "        return f\"Antagning(school=´{self.school}´, program={self.program}, name={self.name}, accept={self.accept})\"\r\n",
    "\r\n",
    "person1 = Antagning(\"Cool School\", \"AI\", \"Gore Bord\", False) # constructor\r\n",
    "\r\n",
    "print(person1.__dict__) # dunder dict to see all keys\r\n",
    "print(person1)"
   ],
   "outputs": [
    {
     "output_type": "stream",
     "name": "stdout",
     "text": [
      "{'school': 'Cool School', 'program': 'AI', 'name': 'Gore Bord', 'accept': False}\n",
      "Antagning(school=´Cool School´, program=AI, name=Gore Bord, accept=False)\n"
     ]
    }
   ],
   "metadata": {}
  },
  {
   "cell_type": "code",
   "execution_count": 12,
   "source": [
    "class OldCoinStash:\r\n",
    "    def __init__(self, owner) -> None:\r\n",
    "        # these attributes are public\r\n",
    "        self.owner = owner\r\n",
    "\r\n",
    "        # private - by convention use underscore prefix\r\n",
    "        self._riksdaler = 0\r\n",
    "        self._shilling = 0\r\n",
    "\r\n",
    "    def deposit(self, riksdaler, shilling):\r\n",
    "        if riksdaler <= 0 or shilling <= 0:\r\n",
    "            raise ValueError(f\"Stop depositing negative values. {riksdaler} riksdaler or {shilling} not okay\")\r\n",
    "\r\n",
    "        self._riksdaler += riksdaler\r\n",
    "        self._shilling += shilling\r\n",
    "\r\n",
    "    def withdraw(self, riksdaler, shilling):\r\n",
    "        if riksdaler > self._riksdaler or shilling > self._shilling:\r\n",
    "            raise ValueError(f\"You can not withdraw more coins than you have\")\r\n",
    "        self._riksdaler -= riksdaler\r\n",
    "        self._shilling -= shilling\r\n",
    "    \r\n",
    "    def check_balance(self):\r\n",
    "        return f\"Coins in stash: {self._riksdaler} riksdaler and {self._shilling} shilling\"\r\n",
    "\r\n",
    "    def __repr__(self) -> str:\r\n",
    "        return f\"OldCoinStash(owner='{self.owner}')\"\r\n",
    "\r\n",
    "stash1 = OldCoinStash(\"GoreBord\")\r\n",
    "print(stash1) # testing __repr__\r\n",
    "print(stash1.check_balance()) # testing check_balance()\r\n",
    "stash1.deposit(riksdaler = 500, shilling = 3000)\r\n",
    "print(stash1.check_balance())"
   ],
   "outputs": [
    {
     "output_type": "stream",
     "name": "stdout",
     "text": [
      "OldCoinStash(owner='GoreBord')\n",
      "Coins in stash: 0 riksdaler and 0 shilling\n",
      "Coins in stash: 500 riksdaler and 3000 shilling\n"
     ]
    }
   ],
   "metadata": {}
  },
  {
   "cell_type": "markdown",
   "source": [
    "## Encapsulation\r\n",
    "\r\n",
    "- in OOP, you want t encapsulate some infrmation and only show relevant information outwards"
   ],
   "metadata": {}
  },
  {
   "cell_type": "markdown",
   "source": [
    "## Properties"
   ],
   "metadata": {}
  },
  {
   "cell_type": "code",
   "execution_count": 6,
   "source": [
    "class Student:\r\n",
    "    def __init__(self, name: str, age: float) -> None:\r\n",
    "        self.name = name # note no underscore\r\n",
    "        self.age = age\r\n",
    "\r\n",
    "    # @property\r\n",
    "    # def name(self) -> str:\r\n",
    "    #     return self._name # note underscore\r\n",
    "\r\n",
    "    @property\r\n",
    "    def age(self) -> float:\r\n",
    "        print(\"age getter is running . . .\")\r\n",
    "        return self._age\r\n",
    "\r\n",
    "    @age.setter\r\n",
    "    def age(self, value: float) -> None:\r\n",
    "        if not isinstance(value, (int, float)):\r\n",
    "            raise TypeError(f\"Age must be an int or a float not {type(value)}\")\r\n",
    "\r\n",
    "        if not (0 <= value < 125):\r\n",
    "            raise ValueError(\"Your age must be between 0 and 124\")\r\n",
    "\r\n",
    "        self._age = value\r\n",
    "\r\n",
    "student1 = Student(\"Gore Bord\", 25)\r\n",
    "print(student1.name)\r\n",
    "print(student1.age)\r\n",
    "\r\n",
    "try:\r\n",
    "    student1.age =\"25\"\r\n",
    "except TypeError as err:\r\n",
    "    print(err)\r\n",
    "    "
   ],
   "outputs": [
    {
     "output_type": "stream",
     "name": "stdout",
     "text": [
      "Gore Bord\n",
      "age getter is running . . .\n",
      "25\n",
      "Age must be an int or a float not <class 'str'>\n"
     ]
    }
   ],
   "metadata": {}
  }
 ],
 "metadata": {
  "orig_nbformat": 4,
  "language_info": {
   "name": "python",
   "version": "3.9.7",
   "mimetype": "text/x-python",
   "codemirror_mode": {
    "name": "ipython",
    "version": 3
   },
   "pygments_lexer": "ipython3",
   "nbconvert_exporter": "python",
   "file_extension": ".py"
  },
  "kernelspec": {
   "name": "python3",
   "display_name": "Python 3.9.7 64-bit ('programmering-python-marcus-hedlund-hYXCoJo0': pipenv)"
  },
  "interpreter": {
   "hash": "3b906edd1ad2a2ff67e3221e6a9b05a54cc0b7f620bdddbf02a7da9fb3099664"
  }
 },
 "nbformat": 4,
 "nbformat_minor": 2
}