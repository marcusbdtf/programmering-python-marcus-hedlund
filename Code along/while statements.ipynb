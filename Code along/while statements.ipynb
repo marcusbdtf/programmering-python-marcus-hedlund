{
 "cells": [
  {
   "cell_type": "code",
   "execution_count": 24,
   "source": [
    "# summera alla udda tal mellan 0 och 10\n",
    "\n",
    "n = 1 \n",
    "summa = 0 \n",
    "while n <= 10:\n",
    "    if n == 9:\n",
    "        print(\"9=\", end=\"\")\n",
    "    else:\n",
    "        print(f\"{n} +\", end=\"\")\n",
    "    summa += n\n",
    "    n += 2\n",
    "    \n",
    "print(summa)"
   ],
   "outputs": [
    {
     "output_type": "stream",
     "name": "stdout",
     "text": [
      "1 +3 +5 +7 +9=25\n"
     ]
    }
   ],
   "metadata": {}
  },
  {
   "cell_type": "code",
   "execution_count": 25,
   "source": [
    "## Fåglar och oljeutsläpp\n",
    "\n",
    "birds, year = 8000, 0\n",
    "\n",
    "while birds >= 800: \n",
    "    birds /= 2\n",
    "    year += 1\n",
    "    print (f\"År {year}: antal fåglar: {birds:.0f}st\")\n"
   ],
   "outputs": [
    {
     "output_type": "stream",
     "name": "stdout",
     "text": [
      "År 1: antal fåglar: 4000st\n",
      "År 2: antal fåglar: 2000st\n",
      "År 3: antal fåglar: 1000st\n",
      "År 4: antal fåglar: 500st\n"
     ]
    }
   ],
   "metadata": {}
  },
  {
   "cell_type": "code",
   "execution_count": 26,
   "source": [
    "#mjölkuppgift\n",
    "import matplotlib.pyplot as plt\n",
    "\n",
    "bakterier = 1.5e6\n",
    "bakterie_lista = [] \n",
    "faktor = 1.5\n",
    "sur = 1e7\n",
    "timmar = 0 \n",
    "while bakterier < sur:\n",
    "    bakterie_lista.append(bakterier)\n",
    "    bakterier *= faktor\n",
    "    timmar += 1\n",
    "print(f\"Det tar {timmar}h för mjölken att surna\")\n",
    "\n"
   ],
   "outputs": [
    {
     "output_type": "stream",
     "name": "stdout",
     "text": [
      "Det tar 5h för mjölken att surna\n"
     ]
    }
   ],
   "metadata": {}
  },
  {
   "cell_type": "code",
   "execution_count": 36,
   "source": [
    "import random as rnd\n",
    "\n",
    "guess = rnd\n",
    "val = input (\"Enter a number between 1-100\")\n",
    "print (val)\n",
    "if val == rnd:\n",
    "    print (\"You guessed the right number\")\n",
    "else: \n",
    "    print (\"You guessed the wrong number\")\n"
   ],
   "outputs": [
    {
     "output_type": "error",
     "ename": "SyntaxError",
     "evalue": "invalid syntax (2752851365.py, line 1)",
     "traceback": [
      "\u001b[0;36m  File \u001b[0;32m\"/var/folders/3r/2whwbxz94h177pkclflht54r0000gn/T/ipykernel_10531/2752851365.py\"\u001b[0;36m, line \u001b[0;32m1\u001b[0m\n\u001b[0;31m    import random as rnd(0,10)\u001b[0m\n\u001b[0m                        ^\u001b[0m\n\u001b[0;31mSyntaxError\u001b[0m\u001b[0;31m:\u001b[0m invalid syntax\n"
     ]
    }
   ],
   "metadata": {}
  },
  {
   "cell_type": "code",
   "execution_count": null,
   "source": [],
   "outputs": [],
   "metadata": {}
  },
  {
   "cell_type": "code",
   "execution_count": null,
   "source": [],
   "outputs": [],
   "metadata": {}
  }
 ],
 "metadata": {
  "orig_nbformat": 4,
  "language_info": {
   "name": "python",
   "version": "3.9.1",
   "mimetype": "text/x-python",
   "codemirror_mode": {
    "name": "ipython",
    "version": 3
   },
   "pygments_lexer": "ipython3",
   "nbconvert_exporter": "python",
   "file_extension": ".py"
  },
  "kernelspec": {
   "name": "python3",
   "display_name": "Python 3.9.1 64-bit ('programmering-python-marcus-hedlund-5oyWV5A8': pipenv)"
  },
  "interpreter": {
   "hash": "fe1f556b4ca3e78725b3070da2b7773a6fedb4125a5c65f3b6626a281545a789"
  }
 },
 "nbformat": 4,
 "nbformat_minor": 2
}