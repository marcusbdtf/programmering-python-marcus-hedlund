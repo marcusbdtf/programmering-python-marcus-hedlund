{
 "cells": [
  {
   "cell_type": "code",
   "execution_count": 1,
   "metadata": {},
   "outputs": [
    {
     "name": "stdout",
     "output_type": "stream",
     "text": [
      "(1.0, 0.0, 5.0)\n",
      "Vector(2.0, 3.0)\n"
     ]
    }
   ],
   "source": [
    "import vector as vec\n",
    "\n",
    "v1 = vec.Vector(1,1)\n",
    "v2 = vec.Vector(1,1)\n",
    "\n",
    "v_test = vec.Vector(True, False, 5)\n",
    "\n",
    "print(v_test.numbers)\n",
    "\n",
    "print(v1+v2)"
   ]
  },
  {
   "cell_type": "code",
   "execution_count": 8,
   "metadata": {},
   "outputs": [
    {
     "name": "stdout",
     "output_type": "stream",
     "text": [
      "2\n",
      "3\n"
     ]
    }
   ],
   "source": [
    "print(len(v1))\n",
    "print(len(v_test))"
   ]
  },
  {
   "cell_type": "code",
   "execution_count": 4,
   "metadata": {},
   "outputs": [
    {
     "name": "stdout",
     "output_type": "stream",
     "text": [
      "v1 == v2: False\n",
      "v1 - v3 Vector(0.0, -2.0)\n",
      "v1*5 Vector(5.0, 15.0)\n",
      "5*v1 = Vector(5.0, 15.0)\n"
     ]
    },
    {
     "data": {
      "image/png": "[encoded data removed]",
      "text/plain": [
       "<Figure size 432x288 with 1 Axes>"
      ]
     },
     "metadata": {
      "needs_background": "light"
     },
     "output_type": "display_data"
    }
   ],
   "source": [
    "from vector import Vector\n",
    "from plotter import PlotVectors\n",
    "\n",
    "v1 = Vector(1, 3)\n",
    "v2 = Vector(1, 1)\n",
    "v3 = Vector(1, 5)\n",
    "print(f\"v1 == v2: {v1==v2}\")\n",
    "print(f\"v1 - v3 {v1-v3}\")\n",
    "print(f\"v1*5 {v1*5}\")\n",
    "print(f\"5*v1 = {5*v1}\")\n",
    "\n",
    "v1.plot(v3,v1+v3)"
   ]
  }
 ],
 "metadata": {
  "interpreter": {
   "hash": "3b906edd1ad2a2ff67e3221e6a9b05a54cc0b7f620bdddbf02a7da9fb3099664"
  },
  "kernelspec": {
   "display_name": "Python 3.9.7 64-bit ('programmering-python-marcus-hedlund-hYXCoJo0': pipenv)",
   "name": "python3"
  },
  "language_info": {
   "codemirror_mode": {
    "name": "ipython",
    "version": 3
   },
   "file_extension": ".py",
   "mimetype": "text/x-python",
   "name": "python",
   "nbconvert_exporter": "python",
   "pygments_lexer": "ipython3",
   "version": "3.9.7"
  },
  "orig_nbformat": 4
 },
 "nbformat": 4,
 "nbformat_minor": 2
}
