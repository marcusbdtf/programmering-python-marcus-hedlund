{
 "cells": [
  {
   "cell_type": "code",
   "execution_count": 1,
   "source": [
    "import vector as vec\r\n",
    "\r\n",
    "v1 = vec.Vector(1,1)\r\n",
    "v2 = vec.Vector(1,1)\r\n",
    "\r\n",
    "v_test = vec.Vector(True, False, 5)\r\n",
    "\r\n",
    "print(v_test.numbers)\r\n",
    "\r\n",
    "print(v1+v2)"
   ],
   "outputs": [
    {
     "output_type": "stream",
     "name": "stdout",
     "text": [
      "(1.0, 0.0, 5.0)\n",
      "Vector(2.0, 3.0)\n"
     ]
    }
   ],
   "metadata": {}
  },
  {
   "cell_type": "code",
   "execution_count": 8,
   "source": [
    "print(len(v1))\r\n",
    "print(len(v_test))"
   ],
   "outputs": [
    {
     "output_type": "stream",
     "name": "stdout",
     "text": [
      "2\n",
      "3\n"
     ]
    }
   ],
   "metadata": {}
  },
  {
   "cell_type": "code",
   "execution_count": 1,
   "source": [
    "from vector import Vector\r\n",
    "\r\n",
    "v1 = Vector(1, 1)\r\n",
    "v2 = Vector(1, 1)\r\n",
    "v3 = Vector(1, 5)\r\n",
    "print(f\"v1 == v2: {v1==v2}\")\r\n",
    "print(f\"v1 - v3 {v1-v3}\")\r\n",
    "print(f\"v1*5 {v1*5}\")\r\n",
    "print(f\"5*v1 = {5*v1}\")\r\n"
   ],
   "outputs": [
    {
     "output_type": "stream",
     "name": "stdout",
     "text": [
      "v1 == v2: True\n",
      "v1 - v3 Vector(0.0, -4.0)\n",
      "v1*5 Vector(5.0, 5.0)\n",
      "5*v1 = Vector(5.0, 5.0)\n"
     ]
    }
   ],
   "metadata": {}
  }
 ],
 "metadata": {
  "orig_nbformat": 4,
  "language_info": {
   "name": "python",
   "version": "3.9.7",
   "mimetype": "text/x-python",
   "codemirror_mode": {
    "name": "ipython",
    "version": 3
   },
   "pygments_lexer": "ipython3",
   "nbconvert_exporter": "python",
   "file_extension": ".py"
  },
  "kernelspec": {
   "name": "python3",
   "display_name": "Python 3.9.7 64-bit ('programmering-python-marcus-hedlund-hYXCoJo0': pipenv)"
  },
  "interpreter": {
   "hash": "3b906edd1ad2a2ff67e3221e6a9b05a54cc0b7f620bdddbf02a7da9fb3099664"
  }
 },
 "nbformat": 4,
 "nbformat_minor": 2
}