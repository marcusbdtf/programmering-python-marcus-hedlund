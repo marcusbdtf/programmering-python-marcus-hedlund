{
 "cells": [
  {
   "cell_type": "code",
   "execution_count": 370,
   "source": [
    "import matplotlib.pyplot as plt\r\n",
    "import matplotlib.patches as mpatches\r\n",
    "import numpy as np\r\n",
    "import math\r\n",
    "import re\r\n",
    "\r\n",
    "pichudata = []\r\n",
    "pikachudata = []\r\n",
    "test_points = []\r\n",
    "path = 'files/pichu.txt'\r\n",
    "path2 = 'files/pikachu.txt'\r\n",
    "path3 = 'files/test_points.txt' # variable paths for easier additions\r\n",
    "distance_list = list() \r\n",
    "distance_list2 = list()\r\n",
    "\r\n",
    "def calculateDistance(xi,yi,x2,y2):\r\n",
    "    dist = math.sqrt((x2-xi)**2 + (y2-yi)**2) # calculates the distance from entered point to all points in pikachu data\r\n",
    "    distance_list.append(dist)\r\n",
    "    return dist\r\n",
    "def calculateDistancepichu(xi,yi,x2,y2):\r\n",
    "    dist1 = math.sqrt((x2-xi)**2 + (y2-yi)**2) # calculates the distance from entered point to all points in Pichu data\r\n",
    "    distance_list2.append(dist1) #Appends to pichu coordinate list\r\n",
    "    return dist1\r\n",
    "\r\n",
    "with open(path, 'r') as f1, open(path2, 'r') as f2, open(path3, 'r') as f3: \r\n",
    "    testdata = f3.read()\r\n",
    "    next(f1)\r\n",
    "    for line in f1:\r\n",
    "       pichudata.append([eval(n) for n in line[1:-2].split(',')]) # cleans the file and appends to pichu data\r\n",
    "    next(f2) \r\n",
    "    for line in f2:\r\n",
    "        pikachudata.append([eval(n) for n in line[1:-2].split(',')])  # cleans the file and appends to pikachu data\r\n",
    "\r\n",
    "testers = (re.sub('[(,)]', '', testdata)) # cleans testing file\r\n",
    "test_points = [x for i in testers for x in i.split()] # takes number values from testers and makes each get an index in test_points list\r\n",
    "# Did not know how to iterate test_points through algo \r\n",
    "\r\n",
    "# ------------\r\n",
    "classes = ['Pikachu', 'Pichu', 'User Input']\r\n",
    "class_colors = ['b', 'r', 'g']\r\n",
    "recs = []\r\n",
    "for i in range(0,len(class_colors)):\r\n",
    "    recs.append(mpatches.Rectangle((0,0),1,1,fc=class_colors[i]))\r\n",
    "# ------------ Taken from stackoverflow, creates lists to hold data for legend, used it to show different colors in legend. \r\n",
    "try:\r\n",
    "  u_x = int(input(\"Please enter the width:\")) # error handling incase wrong data-type entered\r\n",
    "  u_y = int(input(\"Please enter the height:\"))\r\n",
    "except ValueError:\r\n",
    "    print(\"\\nPlease only enter whole nubmers.\")\r\n",
    "\r\n",
    "for pair in pikachudata:\r\n",
    "    x2,y2 = pair[0],pair[1] # since list is split in two rows we have to separate the numbers\r\n",
    "    calculateDistance(x2,y2, u_x,u_y) #using function to calc distance, user input variables included \r\n",
    "    plt.scatter(x2,y2, color=\"b\")\r\n",
    "for pair in pichudata:\r\n",
    "        x,y = pair[0],pair[1]\r\n",
    "        calculateDistancepichu(x,y, u_x,u_y)\r\n",
    "        plt.scatter(x,y, color=\"r\", label='Pichu')\r\n",
    "        plt.xlabel('Width')\r\n",
    "        plt.ylabel('Height')\r\n",
    "        plt.title('Pikachu & Pichu Scatter')\r\n",
    "        plt.scatter(u_x,u_y, color=\"g\") # plotting user input for reference\r\n",
    "        plt.legend(recs,classes,loc=4)\r\n",
    "        plt.show        \r\n",
    "\r\n",
    "distance_list2.sort() # sorting the lists so the answer goes from low to high to display nearest points. \r\n",
    "distance_list.sort()\r\n",
    "\r\n",
    "if distance_list2[:5] <= distance_list[:5]: # [:5] slice to compare with the nearest 5 results. \r\n",
    "    print(f\"Pichu classified! Width: {u_x}cm. Height: {u_y}cm \\nNearest Pikachu points:\\n{distance_list[:5]} \\nNearest Pichu points:\\n{distance_list2[:5]}\")\r\n",
    "else:\r\n",
    "    print(f\"Pikachu classified! Width: {u_x}cm. Height: {u_y}cm \\nNearest Pikachu points:\\n{distance_list[:5]} \\nNearest Pichu points:\\n{distance_list2[:5]}\")\r\n"
   ],
   "outputs": [
    {
     "output_type": "stream",
     "name": "stdout",
     "text": [
      "Pikachu classified! Width: 25cm. Height: 36cm \n",
      "Nearest Pikachu points:\n",
      "[1.1830675156345303, 1.42589352591132, 1.627446194544757, 1.8272493974513997, 1.8302261952383383] \n",
      "Nearest Pichu points:\n",
      "[2.999018334307467, 3.5173117776523264, 4.68603712494074, 5.02492048464666, 5.080809876493408]\n"
     ]
    },
    {
     "output_type": "display_data",
     "data": {
      "image/png": "[encoded data removed]",
      "text/plain": [
       "<Figure size 432x288 with 1 Axes>"
      ]
     },
     "metadata": {
      "needs_background": "light"
     }
    }
   ],
   "metadata": {}
  }
 ],
 "metadata": {
  "orig_nbformat": 4,
  "language_info": {
   "name": "python",
   "version": "3.9.7",
   "mimetype": "text/x-python",
   "codemirror_mode": {
    "name": "ipython",
    "version": 3
   },
   "pygments_lexer": "ipython3",
   "nbconvert_exporter": "python",
   "file_extension": ".py"
  },
  "kernelspec": {
   "name": "python3",
   "display_name": "Python 3.9.7 64-bit ('programmering-python-marcus-hedlund-oiQEj9Gv': pipenv)"
  },
  "interpreter": {
   "hash": "79ed5b5c011ac0b6edc9d22a03e0060c898a71889c687486e27e2c9555cbebb5"
  }
 },
 "nbformat": 4,
 "nbformat_minor": 2
}