{
 "cells": [
  {
   "cell_type": "code",
   "execution_count": 2,
   "source": [
    "n = -10\r\n",
    "\r\n",
    "while n <= 10:\r\n",
    "   # print(n)\r\n",
    "    n += 1"
   ],
   "outputs": [],
   "metadata": {}
  },
  {
   "cell_type": "code",
   "execution_count": 56,
   "source": [
    "sum = 0\r\n",
    "n = 1 # counter\r\n",
    "d = 1 # distance\r\n",
    "while n <= 100:\r\n",
    "    temp = 1 + ((n-1)*d) # formula for arithmetic math\r\n",
    "    n += 1\r\n",
    "    sum = sum + temp # sum stores the value of the previous round and adds current round\r\n",
    "print(sum) "
   ],
   "outputs": [
    {
     "output_type": "stream",
     "name": "stdout",
     "text": [
      "5050\n"
     ]
    }
   ],
   "metadata": {}
  }
 ],
 "metadata": {
  "orig_nbformat": 4,
  "language_info": {
   "name": "python",
   "version": "3.9.7",
   "mimetype": "text/x-python",
   "codemirror_mode": {
    "name": "ipython",
    "version": 3
   },
   "pygments_lexer": "ipython3",
   "nbconvert_exporter": "python",
   "file_extension": ".py"
  },
  "kernelspec": {
   "name": "python3",
   "display_name": "Python 3.9.7 64-bit ('programmering-python-marcus-hedlund-oiQEj9Gv': pipenv)"
  },
  "interpreter": {
   "hash": "79ed5b5c011ac0b6edc9d22a03e0060c898a71889c687486e27e2c9555cbebb5"
  }
 },
 "nbformat": 4,
 "nbformat_minor": 2
}