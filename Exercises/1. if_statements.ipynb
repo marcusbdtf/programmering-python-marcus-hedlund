{
 "cells": [
  {
   "cell_type": "code",
   "execution_count": 11,
   "source": [
    "print(\"please enter a number:\")\r\n",
    "input_a = int(input())\r\n",
    "zero = \"You entered 0.\"\r\n",
    "\r\n",
    "if input_a > 0:\r\n",
    "    print(f\"{input_a} is a positive number\")\r\n",
    "elif input_a < 0:\r\n",
    "    print(f\"{input_a} is a negative number\")\r\n",
    "else:\r\n",
    "    print(f\"{zero}\")\r\n",
    "\r\n",
    "\r\n",
    "\r\n"
   ],
   "outputs": [
    {
     "output_type": "stream",
     "name": "stdout",
     "text": [
      "please enter a number:\n",
      "You entered 0.\n"
     ]
    }
   ],
   "metadata": {}
  },
  {
   "cell_type": "code",
   "execution_count": 15,
   "source": [
    "print(\"Please enter two whole numbers for a comparison\")\r\n",
    "input_1 = int(input())\r\n",
    "input_2 = int(input())\r\n",
    "\r\n",
    "if input_1 > input_2:\r\n",
    "    print(f\"{input_1} (first number) is larger than {input_2} (second number).\")\r\n",
    "else:\r\n",
    "    print(f\"{input_2} (second number) is larger than {input_1} (first number).\")\r\n"
   ],
   "outputs": [
    {
     "output_type": "stream",
     "name": "stdout",
     "text": [
      "Please enter two whole numbers for a comparison\n",
      "6 (first number) is larger than 2 (second number).\n"
     ]
    }
   ],
   "metadata": {}
  },
  {
   "cell_type": "code",
   "execution_count": 23,
   "source": [
    "print(\"Please input three different triangle angles\")\r\n",
    "input_1 = int(input())\r\n",
    "input_2 = int(input())\r\n",
    "input_3 = int(input())\r\n",
    "\r\n",
    "triangle_total = 180\r\n",
    "right_traingle = 90\r\n",
    "\r\n",
    "if input_1 + input_2 + input_3 == triangle_total:\r\n",
    "    if input_1 or input_2 or input_3 == right_traingle:\r\n",
    "        print(f\"You have entered the angles ({input_1}, {input_2}, {input_3}) of a right angled triangle\")\r\n",
    "    else:\r\n",
    "        print(f\"You have entered the angles ({input_1}, {input_2}, {input_3}) of a non-right angled triangle\")\r\n",
    "else:\r\n",
    "    print(\"You have entered angles that do not match a triangle.\")"
   ],
   "outputs": [
    {
     "output_type": "stream",
     "name": "stdout",
     "text": [
      "Please input three different triangle angles\n",
      "You have entered the angles (90, 20, 70) of a right angled triangle\n"
     ]
    }
   ],
   "metadata": {}
  },
  {
   "cell_type": "code",
   "execution_count": 27,
   "source": [
    "print(\"Enter your age\")\r\n",
    "input_age = int(input())\r\n",
    "print(\"Enter your weight\")\r\n",
    "input_weight = int(input())\r\n",
    "\r\n",
    "if input_weight < 40:\r\n",
    "    if input_weight <= 25:\r\n",
    "        print(f\"You weigh {input_weight}, and should therefor take 1/2 pill\")\r\n",
    "    elif input_weight >= 26:\r\n",
    "        print(f\"Based on the entered weight '{input_weight}' the recommended dose is 1/2 - 1 pill\")\r\n",
    "else:\r\n",
    "    print (f\"You weigh {input_weight} and can therefor take 1 or 2 pills.\")\r\n"
   ],
   "outputs": [
    {
     "output_type": "stream",
     "name": "stdout",
     "text": [
      "Enter your age\n",
      "Enter your weight\n",
      "Based on the entered weight '27' the recommended dose is 1/2 - 1 pill\n"
     ]
    }
   ],
   "metadata": {}
  }
 ],
 "metadata": {
  "orig_nbformat": 4,
  "language_info": {
   "name": "python",
   "version": "3.9.7",
   "mimetype": "text/x-python",
   "codemirror_mode": {
    "name": "ipython",
    "version": 3
   },
   "pygments_lexer": "ipython3",
   "nbconvert_exporter": "python",
   "file_extension": ".py"
  },
  "kernelspec": {
   "name": "python3",
   "display_name": "Python 3.9.7 64-bit ('programmering-python-marcus-hedlund-oiQEj9Gv': pipenv)"
  },
  "interpreter": {
   "hash": "79ed5b5c011ac0b6edc9d22a03e0060c898a71889c687486e27e2c9555cbebb5"
  }
 },
 "nbformat": 4,
 "nbformat_minor": 2
}