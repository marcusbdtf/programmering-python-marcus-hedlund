{
 "cells": [
  {
   "cell_type": "code",
   "execution_count": 15,
   "source": [
    "class Converter:\r\n",
    "    def __init__(self, value) -> float:\r\n",
    "        self.value = value\r\n",
    "\r\n",
    "    def inch_to_cm(self) -> float:\r\n",
    "        self.inch_to_cm * 2.54\r\n",
    "    \r\n",
    "    def foot_to_meters(self) -> float:\r\n",
    "        self.foot_to_meters / 0.3048\r\n",
    "        \r\n",
    "    def pound_to_kg(self) -> float:\r\n",
    "        self.pound_to_kg / 2.205\r\n",
    "    \r\n",
    "    def __repr__(self) -> str:\r\n",
    "        return f\"Converted inch to cm:{self.inch_to_cm}\"\r\n",
    "\r\n",
    "inches = Converter(100)\r\n",
    "print(inches.inch_to_cm)\r\n",
    "\r\n",
    "\r\n",
    "        \r\n",
    "    \r\n"
   ],
   "outputs": [
    {
     "output_type": "error",
     "ename": "RecursionError",
     "evalue": "maximum recursion depth exceeded while getting the str of an object",
     "traceback": [
      "\u001b[1;31m---------------------------------------------------------------------------\u001b[0m",
      "\u001b[1;31mRecursionError\u001b[0m                            Traceback (most recent call last)",
      "\u001b[1;32mC:\\Users\\MARCUS~1\\AppData\\Local\\Temp/ipykernel_7924/2559463567.py\u001b[0m in \u001b[0;36m<module>\u001b[1;34m\u001b[0m\n\u001b[0;32m     16\u001b[0m \u001b[1;33m\u001b[0m\u001b[0m\n\u001b[0;32m     17\u001b[0m \u001b[0minches\u001b[0m \u001b[1;33m=\u001b[0m \u001b[0mConverter\u001b[0m\u001b[1;33m(\u001b[0m\u001b[1;36m100\u001b[0m\u001b[1;33m)\u001b[0m\u001b[1;33m\u001b[0m\u001b[1;33m\u001b[0m\u001b[0m\n\u001b[1;32m---> 18\u001b[1;33m \u001b[0mprint\u001b[0m\u001b[1;33m(\u001b[0m\u001b[0minches\u001b[0m\u001b[1;33m.\u001b[0m\u001b[0minch_to_cm\u001b[0m\u001b[1;33m)\u001b[0m\u001b[1;33m\u001b[0m\u001b[1;33m\u001b[0m\u001b[0m\n\u001b[0m\u001b[0;32m     19\u001b[0m \u001b[1;33m\u001b[0m\u001b[0m\n\u001b[0;32m     20\u001b[0m \u001b[1;33m\u001b[0m\u001b[0m\n",
      "\u001b[1;32mC:\\Users\\MARCUS~1\\AppData\\Local\\Temp/ipykernel_7924/2559463567.py\u001b[0m in \u001b[0;36m__repr__\u001b[1;34m(self)\u001b[0m\n\u001b[0;32m     13\u001b[0m \u001b[1;33m\u001b[0m\u001b[0m\n\u001b[0;32m     14\u001b[0m     \u001b[1;32mdef\u001b[0m \u001b[0m__repr__\u001b[0m\u001b[1;33m(\u001b[0m\u001b[0mself\u001b[0m\u001b[1;33m)\u001b[0m \u001b[1;33m->\u001b[0m \u001b[0mstr\u001b[0m\u001b[1;33m:\u001b[0m\u001b[1;33m\u001b[0m\u001b[1;33m\u001b[0m\u001b[0m\n\u001b[1;32m---> 15\u001b[1;33m         \u001b[1;32mreturn\u001b[0m \u001b[1;34mf\"Converted inch to cm:{self.inch_to_cm}\"\u001b[0m\u001b[1;33m\u001b[0m\u001b[1;33m\u001b[0m\u001b[0m\n\u001b[0m\u001b[0;32m     16\u001b[0m \u001b[1;33m\u001b[0m\u001b[0m\n\u001b[0;32m     17\u001b[0m \u001b[0minches\u001b[0m \u001b[1;33m=\u001b[0m \u001b[0mConverter\u001b[0m\u001b[1;33m(\u001b[0m\u001b[1;36m100\u001b[0m\u001b[1;33m)\u001b[0m\u001b[1;33m\u001b[0m\u001b[1;33m\u001b[0m\u001b[0m\n",
      "... last 1 frames repeated, from the frame below ...\n",
      "\u001b[1;32mC:\\Users\\MARCUS~1\\AppData\\Local\\Temp/ipykernel_7924/2559463567.py\u001b[0m in \u001b[0;36m__repr__\u001b[1;34m(self)\u001b[0m\n\u001b[0;32m     13\u001b[0m \u001b[1;33m\u001b[0m\u001b[0m\n\u001b[0;32m     14\u001b[0m     \u001b[1;32mdef\u001b[0m \u001b[0m__repr__\u001b[0m\u001b[1;33m(\u001b[0m\u001b[0mself\u001b[0m\u001b[1;33m)\u001b[0m \u001b[1;33m->\u001b[0m \u001b[0mstr\u001b[0m\u001b[1;33m:\u001b[0m\u001b[1;33m\u001b[0m\u001b[1;33m\u001b[0m\u001b[0m\n\u001b[1;32m---> 15\u001b[1;33m         \u001b[1;32mreturn\u001b[0m \u001b[1;34mf\"Converted inch to cm:{self.inch_to_cm}\"\u001b[0m\u001b[1;33m\u001b[0m\u001b[1;33m\u001b[0m\u001b[0m\n\u001b[0m\u001b[0;32m     16\u001b[0m \u001b[1;33m\u001b[0m\u001b[0m\n\u001b[0;32m     17\u001b[0m \u001b[0minches\u001b[0m \u001b[1;33m=\u001b[0m \u001b[0mConverter\u001b[0m\u001b[1;33m(\u001b[0m\u001b[1;36m100\u001b[0m\u001b[1;33m)\u001b[0m\u001b[1;33m\u001b[0m\u001b[1;33m\u001b[0m\u001b[0m\n",
      "\u001b[1;31mRecursionError\u001b[0m: maximum recursion depth exceeded while getting the str of an object"
     ]
    }
   ],
   "metadata": {}
  },
  {
   "cell_type": "markdown",
   "source": [
    "## Create Person class with attributes:\r\n",
    "\r\n",
    "- name\r\n",
    "- age\r\n",
    "- email"
   ],
   "metadata": {}
  },
  {
   "cell_type": "code",
   "execution_count": 57,
   "source": [
    "import re\r\n",
    "class Person:\r\n",
    "    def __init__(self, name, age, email) -> None:\r\n",
    "        self.name = name\r\n",
    "        self.age = age\r\n",
    "        self._email = email\r\n",
    "\r\n",
    "    @property\r\n",
    "    def name(self) -> str:\r\n",
    "        #print(\"name getter ...\")\r\n",
    "        return self._name\r\n",
    "    \r\n",
    "    @name.setter\r\n",
    "    def name(self, value: str) -> None:\r\n",
    "        if not isinstance(value, (str)):\r\n",
    "            raise TypeError(f\"Name must be string, not {type(value)}\")\r\n",
    "        self._name = value\r\n",
    "\r\n",
    "    @property\r\n",
    "    def age(self) -> float:\r\n",
    "        #print(\"age getter ...\")\r\n",
    "        return self._age\r\n",
    "    \r\n",
    "    @age.setter\r\n",
    "    def age(self, value: float) -> None:\r\n",
    "        if not isinstance(value, (float, int)):\r\n",
    "           raise TypeError(f\"Age must be float or integer not {type(value)}\")\r\n",
    "        if not (0 < value <= 125):\r\n",
    "            raise ValueError(f\"Age must be between 0-125 not {value}\")\r\n",
    "        self._age = value\r\n",
    "\r\n",
    "    @property\r\n",
    "    def email(self) -> str:\r\n",
    "        #print(\"email getter ...\")\r\n",
    "        return self._email\r\n",
    "    \r\n",
    "    @email.setter\r\n",
    "    def email(self, value: str):\r\n",
    "        try:\r\n",
    "          if re.fullmatch(r\"@\", value):\r\n",
    "             self._email = value\r\n",
    "        except:\r\n",
    "            raise ValueError(f\"email must include '@'\")\r\n",
    "\r\n",
    "    def say_hello(self):\r\n",
    "        print(f\"My name is {self.name}, I am {self.age} years old. My email adress is {self.email}\")\r\n",
    "            \r\n",
    "\r\n",
    "   # def __repr__(self):\r\n",
    "      #  return f\"Your name is {self.name}, you are {self.age} years old. Your email adress is: {self.email}\"\r\n",
    "\r\n",
    "\r\n",
    "person1 = Person(\"Hans\", 22, \"hans.firstemail@gmail.com\")\r\n",
    "person2 = Person(\"Sara\", 70, \"sara.123@hotmail.com\")\r\n",
    "\r\n",
    "\r\n",
    "person2.say_hello()"
   ],
   "outputs": [
    {
     "output_type": "stream",
     "name": "stdout",
     "text": [
      "My name is Sara, I am 70 years old. My email adress is sara.123@hotmail.com\n"
     ]
    }
   ],
   "metadata": {}
  },
  {
   "cell_type": "markdown",
   "source": [
    "## sub classes "
   ],
   "metadata": {}
  },
  {
   "cell_type": "code",
   "execution_count": 56,
   "source": [
    "class Student(Person):\r\n",
    "    def study(self):\r\n",
    "        return f\"study...study...study...more study..\"\r\n",
    "    \r\n",
    "    def say_hello(self):\r\n",
    "        return f\"Yo, I am a student, my name is {self.name}, I am {self.age} years old and my email adress is {self.email}\"\r\n",
    "\r\n",
    "student1 = Student(\"Claire\", 25, \"claire.france@hotmail.com\")\r\n",
    "student1.say_hello()\r\n",
    "\r\n",
    "class Teacher(Person):\r\n",
    "    def teach(self):\r\n",
    "        return f\"teach...tech...teach...more teaching\"\r\n",
    "    def say_hello(self):\r\n",
    "        return super().say_hello()\r\n",
    "\r\n",
    "teacher1 = Teacher(\"Amy\", 64, \"amy.hello@live.se\")\r\n",
    "\r\n",
    "print(student1.say_hello(), teacher1.say_hello())"
   ],
   "outputs": [
    {
     "output_type": "stream",
     "name": "stdout",
     "text": [
      "My name is Amy, I am 64 years old. My email adress is amy.hello@live.se\n",
      "Yo, I am a student, my name is Claire, I am 25 years old and my email adress is claire.france@hotmail.com None\n"
     ]
    }
   ],
   "metadata": {}
  }
 ],
 "metadata": {
  "orig_nbformat": 4,
  "language_info": {
   "name": "python",
   "version": "3.9.7"
  },
  "kernelspec": {
   "name": "python3",
   "display_name": "Python 3.9.7 64-bit ('programmering-python-marcus-hedlund-hYXCoJo0': pipenv)"
  },
  "interpreter": {
   "hash": "3b906edd1ad2a2ff67e3221e6a9b05a54cc0b7f620bdddbf02a7da9fb3099664"
  }
 },
 "nbformat": 4,
 "nbformat_minor": 2
}