{
 "cells": [
  {
   "cell_type": "code",
   "execution_count": 6,
   "source": [
    "import math\n",
    "\n",
    "a = 3\n",
    "b = 4\n",
    "c = math.sqrt(a**2 + b**2)\n",
    "print(f\"The hypothenuse of the triangle is {c}\")\n"
   ],
   "outputs": [
    {
     "output_type": "stream",
     "name": "stdout",
     "text": [
      "The hypothenuse of the triangle is 5.0\n"
     ]
    }
   ],
   "metadata": {}
  },
  {
   "cell_type": "markdown",
   "source": [],
   "metadata": {}
  },
  {
   "cell_type": "code",
   "execution_count": 12,
   "source": [
    "import math\n",
    "\n",
    "c = 7.0\n",
    "a = 5.0\n",
    "b = math.sqrt(c**2 - a**2)\n",
    "print(f\"The cathetus B is {b:.1f} long\")"
   ],
   "outputs": [
    {
     "output_type": "stream",
     "name": "stdout",
     "text": [
      "The cathetus B is 4.9 long\n"
     ]
    }
   ],
   "metadata": {}
  },
  {
   "cell_type": "code",
   "execution_count": 16,
   "source": [
    "import math\n",
    "\n",
    "total = 365\n",
    "right = 300\n",
    "accuracy = (right / total)\n",
    "answer = (accuracy * 100)\n",
    "print(f\"The model had {answer:.1f} % accuracy\")"
   ],
   "outputs": [
    {
     "output_type": "stream",
     "name": "stdout",
     "text": [
      "The model had 82.2 % accuracy\n"
     ]
    }
   ],
   "metadata": {}
  },
  {
   "cell_type": "markdown",
   "source": [],
   "metadata": {}
  },
  {
   "cell_type": "code",
   "execution_count": 21,
   "source": [
    "import math\n",
    "\n",
    "TP = 2\n",
    "FP = 2\n",
    "FN = 11 \n",
    "TN = 985\n",
    "\n",
    "TPTN = (TP + TN)\n",
    "Divadd = (TP + TN + FP + FN)\n",
    "accuracy = (TPTN / Divadd)\n",
    "print(f\"The accuracy is {accuracy}\")"
   ],
   "outputs": [
    {
     "output_type": "stream",
     "name": "stdout",
     "text": [
      "The accuracy is 0.987\n"
     ]
    }
   ],
   "metadata": {}
  },
  {
   "cell_type": "code",
   "execution_count": 28,
   "source": [
    "\n",
    "\n",
    "x1 = 4\n",
    "y1 = 4\n",
    "x2 = 0\n",
    "y2 = 1\n",
    "\n",
    "k = ((y2 - y1) / (x2 - x1))\n",
    "m = (4 - 4 * 0.75)\n",
    "print(f\"{k} , {m}\")"
   ],
   "outputs": [
    {
     "output_type": "stream",
     "name": "stdout",
     "text": [
      "0.75 , 1.0\n"
     ]
    }
   ],
   "metadata": {}
  }
 ],
 "metadata": {
  "orig_nbformat": 4,
  "language_info": {
   "name": "python",
   "version": "3.9.1",
   "mimetype": "text/x-python",
   "codemirror_mode": {
    "name": "ipython",
    "version": 3
   },
   "pygments_lexer": "ipython3",
   "nbconvert_exporter": "python",
   "file_extension": ".py"
  },
  "kernelspec": {
   "name": "python3",
   "display_name": "Python 3.9.1 64-bit ('programmering-python-marcus-hedlund-5oyWV5A8': venv)"
  },
  "interpreter": {
   "hash": "fe1f556b4ca3e78725b3070da2b7773a6fedb4125a5c65f3b6626a281545a789"
  }
 },
 "nbformat": 4,
 "nbformat_minor": 2
}