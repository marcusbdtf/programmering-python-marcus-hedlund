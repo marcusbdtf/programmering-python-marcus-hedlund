{
 "cells": [
  {
   "cell_type": "code",
   "execution_count": 8,
   "source": [
    "adj = [\"red\", \"big\", \"tasty\"]\r\n",
    "fruits = [\"Apple\", \"banana\", \"cherry\"]\r\n",
    "\r\n",
    "for x in adj:\r\n",
    "    for y in fruits:\r\n",
    "        print(x, y)"
   ],
   "outputs": [
    {
     "output_type": "stream",
     "name": "stdout",
     "text": [
      "red Apple\n",
      "red banana\n",
      "red cherry\n",
      "big Apple\n",
      "big banana\n",
      "big cherry\n",
      "tasty Apple\n",
      "tasty banana\n",
      "tasty cherry\n"
     ]
    }
   ],
   "metadata": {}
  },
  {
   "cell_type": "code",
   "execution_count": 80,
   "source": [
    "import random as rnd\r\n",
    "\r\n",
    "generator = (rnd.randint(1e3, 1e4)) # four digit randomiser\r\n",
    "\r\n",
    "for x in range(1000, 10000): # Range of four digit numbers\r\n",
    "    if generator == x: break # tells loop to break when RNG is found\r\n",
    "\r\n",
    "print(f\"CPU final guess: {x} , CPU RNG {generator}\")\r\n"
   ],
   "outputs": [
    {
     "output_type": "stream",
     "name": "stdout",
     "text": [
      "CPU final guess: 1380 , CPU RNG 1380\n"
     ]
    }
   ],
   "metadata": {}
  },
  {
   "cell_type": "code",
   "execution_count": 99,
   "source": [
    "# chess square guessing game\r\n",
    "sum = 0\r\n",
    "d = 1 \r\n",
    "for x in range(1, 64+1):\r\n",
    "    sum += d\r\n",
    "    print(f\"square:{x} grains: {d} total: {sum}\")\r\n",
    "    d *=2\r\n"
   ],
   "outputs": [
    {
     "output_type": "stream",
     "name": "stdout",
     "text": [
      "square:1 grains: 1 total: 1\n",
      "square:2 grains: 2 total: 3\n",
      "square:3 grains: 4 total: 7\n",
      "square:4 grains: 8 total: 15\n",
      "square:5 grains: 16 total: 31\n",
      "square:6 grains: 32 total: 63\n",
      "square:7 grains: 64 total: 127\n",
      "square:8 grains: 128 total: 255\n",
      "square:9 grains: 256 total: 511\n",
      "square:10 grains: 512 total: 1023\n",
      "square:11 grains: 1024 total: 2047\n",
      "square:12 grains: 2048 total: 4095\n",
      "square:13 grains: 4096 total: 8191\n",
      "square:14 grains: 8192 total: 16383\n",
      "square:15 grains: 16384 total: 32767\n",
      "square:16 grains: 32768 total: 65535\n",
      "square:17 grains: 65536 total: 131071\n",
      "square:18 grains: 131072 total: 262143\n",
      "square:19 grains: 262144 total: 524287\n",
      "square:20 grains: 524288 total: 1048575\n",
      "square:21 grains: 1048576 total: 2097151\n",
      "square:22 grains: 2097152 total: 4194303\n",
      "square:23 grains: 4194304 total: 8388607\n",
      "square:24 grains: 8388608 total: 16777215\n",
      "square:25 grains: 16777216 total: 33554431\n",
      "square:26 grains: 33554432 total: 67108863\n",
      "square:27 grains: 67108864 total: 134217727\n",
      "square:28 grains: 134217728 total: 268435455\n",
      "square:29 grains: 268435456 total: 536870911\n",
      "square:30 grains: 536870912 total: 1073741823\n",
      "square:31 grains: 1073741824 total: 2147483647\n",
      "square:32 grains: 2147483648 total: 4294967295\n",
      "square:33 grains: 4294967296 total: 8589934591\n",
      "square:34 grains: 8589934592 total: 17179869183\n",
      "square:35 grains: 17179869184 total: 34359738367\n",
      "square:36 grains: 34359738368 total: 68719476735\n",
      "square:37 grains: 68719476736 total: 137438953471\n",
      "square:38 grains: 137438953472 total: 274877906943\n",
      "square:39 grains: 274877906944 total: 549755813887\n",
      "square:40 grains: 549755813888 total: 1099511627775\n",
      "square:41 grains: 1099511627776 total: 2199023255551\n",
      "square:42 grains: 2199023255552 total: 4398046511103\n",
      "square:43 grains: 4398046511104 total: 8796093022207\n",
      "square:44 grains: 8796093022208 total: 17592186044415\n",
      "square:45 grains: 17592186044416 total: 35184372088831\n",
      "square:46 grains: 35184372088832 total: 70368744177663\n",
      "square:47 grains: 70368744177664 total: 140737488355327\n",
      "square:48 grains: 140737488355328 total: 281474976710655\n",
      "square:49 grains: 281474976710656 total: 562949953421311\n",
      "square:50 grains: 562949953421312 total: 1125899906842623\n",
      "square:51 grains: 1125899906842624 total: 2251799813685247\n",
      "square:52 grains: 2251799813685248 total: 4503599627370495\n",
      "square:53 grains: 4503599627370496 total: 9007199254740991\n",
      "square:54 grains: 9007199254740992 total: 18014398509481983\n",
      "square:55 grains: 18014398509481984 total: 36028797018963967\n",
      "square:56 grains: 36028797018963968 total: 72057594037927935\n",
      "square:57 grains: 72057594037927936 total: 144115188075855871\n",
      "square:58 grains: 144115188075855872 total: 288230376151711743\n",
      "square:59 grains: 288230376151711744 total: 576460752303423487\n",
      "square:60 grains: 576460752303423488 total: 1152921504606846975\n",
      "square:61 grains: 1152921504606846976 total: 2305843009213693951\n",
      "square:62 grains: 2305843009213693952 total: 4611686018427387903\n",
      "square:63 grains: 4611686018427387904 total: 9223372036854775807\n",
      "square:64 grains: 9223372036854775808 total: 18446744073709551615\n"
     ]
    }
   ],
   "metadata": {}
  },
  {
   "cell_type": "code",
   "execution_count": 90,
   "source": [
    "sum = 0\r\n",
    "n = 1\r\n",
    "d = 1\r\n",
    "\r\n",
    "for n in range (101): # goes from 1-100, increment not specified so its 1 by default\r\n",
    "    temp = 1 + ((n-1)*d) # formula for arithmetic math\r\n",
    "    n += 1\r\n",
    "    sum = sum + temp\r\n",
    "print(sum)"
   ],
   "outputs": [
    {
     "output_type": "stream",
     "name": "stdout",
     "text": [
      "10000\n"
     ]
    }
   ],
   "metadata": {}
  },
  {
   "cell_type": "code",
   "execution_count": 29,
   "source": [
    "sum = 0\r\n",
    "n = 1\r\n",
    "d = 1\r\n",
    "\r\n",
    "for n in range (1, 101, 2): # start , stop , increment\r\n",
    "    temp = 1 + ((n-1)*d) # formula for arithmetic math\r\n",
    "    n += 1\r\n",
    "    sum = sum + temp \r\n",
    "print(sum)"
   ],
   "outputs": [
    {
     "output_type": "stream",
     "name": "stdout",
     "text": [
      "2500\n"
     ]
    }
   ],
   "metadata": {}
  },
  {
   "cell_type": "code",
   "execution_count": 35,
   "source": [
    "sum = 0\r\n",
    "n = 1\r\n",
    "d = int(input())\r\n",
    "\r\n",
    "for n in range (1, d,): # start , stop , increment\r\n",
    "    temp = 1 + ((n-1)*d) # formula for arithmetic math\r\n",
    "    n += 1\r\n",
    "    sum = sum + temp \r\n",
    "print(sum)"
   ],
   "outputs": [
    {
     "output_type": "stream",
     "name": "stdout",
     "text": [
      "34\n"
     ]
    }
   ],
   "metadata": {}
  },
  {
   "cell_type": "code",
   "execution_count": 17,
   "source": [
    "for x in range (-1, 1):\r\n",
    "    print(x)"
   ],
   "outputs": [
    {
     "output_type": "stream",
     "name": "stdout",
     "text": [
      "-1\n",
      "0\n"
     ]
    }
   ],
   "metadata": {}
  },
  {
   "cell_type": "code",
   "execution_count": 11,
   "source": [
    "for x in range (-10, 11, 2): # the two decides how many increments\r\n",
    "    print(x)"
   ],
   "outputs": [
    {
     "output_type": "stream",
     "name": "stdout",
     "text": [
      "-10\n",
      "-8\n",
      "-6\n",
      "-4\n",
      "-2\n",
      "0\n",
      "2\n",
      "4\n",
      "6\n",
      "8\n",
      "10\n"
     ]
    }
   ],
   "metadata": {}
  }
 ],
 "metadata": {
  "orig_nbformat": 4,
  "language_info": {
   "name": "python",
   "version": "3.9.7",
   "mimetype": "text/x-python",
   "codemirror_mode": {
    "name": "ipython",
    "version": 3
   },
   "pygments_lexer": "ipython3",
   "nbconvert_exporter": "python",
   "file_extension": ".py"
  },
  "kernelspec": {
   "name": "python3",
   "display_name": "Python 3.9.7 64-bit ('programmering-python-marcus-hedlund-oiQEj9Gv': pipenv)"
  },
  "interpreter": {
   "hash": "79ed5b5c011ac0b6edc9d22a03e0060c898a71889c687486e27e2c9555cbebb5"
  }
 },
 "nbformat": 4,
 "nbformat_minor": 2
}